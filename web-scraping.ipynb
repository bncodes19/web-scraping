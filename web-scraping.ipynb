{
 "cells": [
  {
   "cell_type": "markdown",
   "metadata": {},
   "source": [
    "<style>\n",
    "  h1, h2, h3, h4, h5, h6 {\n",
    "    margin-top: 10px;\n",
    "    margin-bottom: 10px;\n",
    "  }\n",
    "</style>\n",
    "\n",
    "## **Project:** Web Scraping and NLP with Requests, BeautifulSoup, and spaCy\n",
    "\n",
    "### **Student Name:** Brett Neely\n",
    "#### **GitHub Link:** https://github.com/bncodes19/web-scraping\n",
    "#### **Course:** Web Mining and Applied NLP (44-620)"
   ]
  },
  {
   "cell_type": "markdown",
   "metadata": {},
   "source": [
    "Perform the tasks described in the Markdown cells below.  When you have completed the assignment make sure your code cells have all been run (and have output beneath them) and ensure you have committed and pushed ALL of your changes to your assignment repository.\n",
    "\n",
    "Every question that requires you to write code will have a code cell underneath it; you may either write your entire solution in that cell or write it in a python file (`.py`), then import and run the appropriate code to answer the question."
   ]
  },
  {
   "cell_type": "code",
   "execution_count": 1,
   "metadata": {},
   "outputs": [],
   "source": [
    "# Imports\n",
    "from bs4 import BeautifulSoup\n",
    "import requests\n",
    "import html5lib\n",
    "import pickle\n",
    "import matplotlib.pyplot as plt\n",
    "import spacy\n",
    "from spacytextblob.spacytextblob import SpacyTextBlob\n",
    "from collections import Counter"
   ]
  },
  {
   "cell_type": "markdown",
   "metadata": {},
   "source": [
    "#### 1. Write code that extracts the article html from https://web.archive.org/web/20210327165005/https://hackaday.com/2021/03/22/how-laser-headlights-work/ and dumps it to a .pkl (or other appropriate file)"
   ]
  },
  {
   "cell_type": "code",
   "execution_count": 2,
   "metadata": {},
   "outputs": [],
   "source": [
    "# Store the website URL in a variable and use requests to scrape\n",
    "URL = 'https://web.archive.org/web/20210327165005/https://hackaday.com/2021/03/22/how-laser-headlights-work/'\n",
    "response = requests.get(URL)"
   ]
  },
  {
   "cell_type": "code",
   "execution_count": 3,
   "metadata": {},
   "outputs": [],
   "source": [
    "article = response.text\n",
    "file_path = \"article.pkl\"\n",
    "\n",
    "# Save the contents of the response text to a pickle file\n",
    "with open(file_path, 'wb') as file:\n",
    "    pickle.dump(article, file)"
   ]
  },
  {
   "cell_type": "markdown",
   "metadata": {},
   "source": [
    "#### 2. Read in your article's html source from the file you created in question 1 and print it's text (use `.get_text()`)"
   ]
  },
  {
   "cell_type": "code",
   "execution_count": 4,
   "metadata": {},
   "outputs": [
    {
     "name": "stdout",
     "output_type": "stream",
     "text": [
      "When we think about the onward march of automotive technology, headlights aren’t usually the first thing that come to mind. Engines, fuel efficiency, and the switch to electric power are all more front of mind. However, that doesn’t mean there aren’t thousands of engineers around the world working to improve the state of the art in automotive lighting day in, day out.\n",
      "Sealed beam headlights gave way to more modern designs once regulations loosened up, while bulbs moved from simple halogens to xenon HIDs and, more recently, LEDs. Now, a new technology is on the scene, with lasers!\n",
      "Laser Headlights?!\n",
      "BWM’s prototype laser headlight assemblies undergoing testing.\n",
      "The first image brought to mind by the phrase “laser headlights” is that of laser beams firing out the front of an automobile. Obviously, coherent beams of monochromatic light would make for poor illumination outside of a very specific spot quite some distance away. Thankfully for our eyes, laser headlights don’t work in this way at all.\n",
      "Instead, laser headlights consist of one or more solid state laser diodes mounted inside the headlight. These blue lasers are fired at a yellow phosphor, similar to that used in white LEDs. This produces a powerful, vibrant white light that can then be bounced off reflectors and out of the headlights towards the road. Laser headlights built in this way have several benefits. They’re more energy efficient than LEDs that put out the same amount of light, while also being more space efficient, too.\n",
      "BWM’s futuristic i8 was one of the first vehicles to ship with laser headlight technology.\n",
      "Laser headlights are still a nascent technology, thus far only appearing in a few BMW, Audi, and other select vehicles.\n",
      "BMW’s technology was developed in partnership with lighting experts OSRAM\n",
      ". In practice, a regular LED low-beam lamp is used, with the laser used to create an incredibly bright and focused spot, used for high-beams. This can provide illumination out to 600 meters ahead of the vehicle, double that of conventional LED high beams. The lights use indium gallium nitride diode lasers that were originally used in projectors, with power levels above 1 watt. One of the challenges in implementing such technology in an automotive environment is the need for it to operate at temperature extremes. While research lasers and laser pointers may primarily be used at typical room temperatures, automotive headlights must be able to withstand everything from 40 degrees below zero up to 50 degrees C. Thankfully, the laser’s high efficiency means it doesn’t have huge heat output of its own to further complicate things. Other engineering challenges involve tailoring the optics package for the rough-and-tumble, high vibration environment found in the automotive application. It’s also important to ensure, as with any such device, that the end user can’t be exposed to harmful laser radiation in the event of accident or malfunction.\n",
      "Tearing Down the Laser Headlight\n",
      "A marketing image showing the construction of an aftermarket LED/laser headlight. We’d take the laser power with a grain of salt — it’s difficult to imagine a 10 W laser shining directly on some small LEDs without melting a hole through the board in short order.\n",
      "An aftermarket has sprung up too, with delightfully innovative designs. Combined laser/LED headlights are readily available on Alibaba,\n",
      "designed as a drop in replacement for projector lamps on existing vehicles.\n",
      "These often use an LED low-beam, and a combined LED/laser high beam, where the laser diode shoots directly at the LED phosphor to excite it further, rather than using its own. These units often also come with fan cooling to keep the laser and LEDs below their maximum operational temperature. Such developments are exciting, though it’s important to be wary of the performance of unknown aftermarket headlights.\n",
      "Many aftermarket LED headlight “upgrades” fail to pass muster\n",
      "when it comes to real-world performance, and there’s no reason to believe hybrid LED/laser designs will be any different. We’d love to pass a selection of these parts through\n",
      "a full IIHS test protocol\n",
      ", but that’s sadly beyond the scope (and budget!) of this article.\n",
      "However, [mikeselectricstuff] has happened to lay his hands on both the BMW and aftermarket parts,\n",
      "tearing them all down in his workshop to see what makes them tick.\n",
      "The differences are multitude when laid bare on the bench. The AliExpress part is relatively simple, wired up no differently from a regular headlight. Interestingly, however, the laser high-beam circuit runs all the time in these parts. To prevent blinding other road users, a shutter is kept in place to block the light, which is moved out of the way with a solenoid when the driver turns on the high beam switch.\n",
      "Where the aftermarket part is a little out of left field, the BMW design is another thing entirely. The cutting-edge headlights are hooked up with multiple connectors and over 30 conductors, with much of the driver electronics living in an external controller. Much of this is to drive the various LEDs and stepper motors for slewing the headlights when steering. However, the laser assembly brings its own complexities. Twin light sensors are built inside to monitor the laser beam, and a special metal blocking arm sits directly in front of the diode, presumably to stop the laser light leaving the headlight in the event the phosphor coating burns through. It’s truly wild to get a look inside a modern luxury car’s headlight and see just how far we’ve come from the old days of simple sealed beams.\n",
      "Cost Versus Performance\n",
      "Despite the efficiency gains available, the technology remains expensive. Powerful laser diodes don’t come cheap, after all. However, as the technology trickles down to lower-end models, it’s likely that we could see economies of scale change that for the better. Indeed, if national authorities begin to demand higher performance headlights as standard, we could see laser headlights become the norm, rather than an expensive luxury. The technology could naturally be applied to home and commercial lighting, too — though we suspect the potential gains are limited enough that LED lighting will remain the norm for some time to come.\n",
      "The high light output of laser headlights in a compact package allows engineers greater freedom when designing the front-end of a car.\n",
      "As it currently stands, much of the appeal of the new technology is about the packaging benefits, which allow automotive designers greater freedom around the headlight area. Such concerns are less of a factor when it comes to light fittings in the home or office, or indeed, on lower-end automobiles. Regardless, it’s an exciting new application for lasers and one we’ll be sure to see more of in the future.\n"
     ]
    }
   ],
   "source": [
    "soup = BeautifulSoup(response.content, 'html5lib')\n",
    "\n",
    "# Find the article in the HTML (inspect the start of the article for the class)\n",
    "article_text = soup.find(\"div\", class_=\"entry-content\")\n",
    "\n",
    "# Clean the article text\n",
    "article_cleaned = article_text.get_text(strip=True, separator=\"\\n\")\n",
    "print(article_cleaned)"
   ]
  },
  {
   "cell_type": "markdown",
   "metadata": {},
   "source": [
    "#### 3. Load the article text into a trained `spaCy` pipeline, and determine the 5 most frequent tokens (converted to lower case).  Print the common tokens with an appropriate label.  Additionally, print the tokens their frequencies (with appropriate labels). Make sure to remove things we don't care about (punctuation, stopwords, whitespace)."
   ]
  },
  {
   "cell_type": "code",
   "execution_count": null,
   "metadata": {},
   "outputs": [
    {
     "name": "stdout",
     "output_type": "stream",
     "text": [
      "Token: laser, Count: 30\n",
      "Token: headlights, Count: 17\n",
      "Token: technology, Count: 10\n",
      "Token: headlight, Count: 10\n",
      "Token: led, Count: 10\n"
     ]
    }
   ],
   "source": [
    "nlp = spacy.load('en_core_web_sm')\n",
    "\n",
    "# Process the cleaned article\n",
    "doc = nlp(article_cleaned)\n",
    "\n",
    "# Store the tokens in a variable and remove punctuation, stop words, and non-alphanumerics\n",
    "tokens = [token.text.lower() for token in doc if token.is_alpha and not token.is_stop]\n",
    "tokens_freq = Counter(tokens)\n",
    "most_common_tokens = tokens_freq.most_common(5)\n",
    "\n",
    "for tokens, freq in most_common_tokens:\n",
    "    print(f\"Token: {tokens}, Count: {freq}\")"
   ]
  },
  {
   "cell_type": "markdown",
   "metadata": {},
   "source": [
    "#### 4. Load the article text into a trained `spaCy` pipeline, and determine the 5 most frequent lemmas (converted to lower case).  Print the common lemmas with an appropriate label.  Additionally, print the lemmas with their frequencies (with appropriate labels). Make sure to remove things we don't care about (punctuation, stopwords, whitespace)."
   ]
  },
  {
   "cell_type": "code",
   "execution_count": null,
   "metadata": {},
   "outputs": [
    {
     "name": "stdout",
     "output_type": "stream",
     "text": [
      "Lemma: laser, Count: 35\n",
      "Lemma: headlight, Count: 26\n",
      "Lemma: beam, Count: 12\n",
      "Lemma: technology, Count: 10\n",
      "Lemma: led, Count: 10\n"
     ]
    }
   ],
   "source": [
    "# Reuse pipeline from previous question\n",
    "\n",
    "# Store the lemmas in a variable and remove punctuation, stop words, and non-alphanumerics\n",
    "lemmas = [token.lemma_.lower() for token in doc if token.is_alpha and not token.is_stop]\n",
    "lemmas_freq = Counter(lemmas)\n",
    "most_common_lemmas = lemmas_freq.most_common(5)\n",
    "\n",
    "for lemmas, freq in most_common_lemmas:\n",
    "    print(f\"Lemma: {lemmas}, Count: {freq}\")"
   ]
  },
  {
   "cell_type": "markdown",
   "metadata": {},
   "source": [
    "5. Define the following methods:\n",
    "    * `score_sentence_by_token(sentence, interesting_token)` that takes a sentence and a list of interesting token and returns the number of times that any of the interesting words appear in the sentence divided by the number of words in the sentence\n",
    "    * `score_sentence_by_lemma(sentence, interesting_lemmas)` that takes a sentence and a list of interesting lemmas and returns the number of times that any of the interesting lemmas appear in the sentence divided by the number of words in the sentence\n",
    "    \n",
    "You may find some of the code from the in class notes useful; feel free to use methods (rewrite them in this cell as well).  Test them by showing the score of the first sentence in your article using the frequent tokens and frequent lemmas identified in question 3."
   ]
  },
  {
   "cell_type": "code",
   "execution_count": 7,
   "metadata": {},
   "outputs": [
    {
     "name": "stdout",
     "output_type": "stream",
     "text": [
      "The score for the following sentence is 0.17\n",
      "'The first image brought to mind by the phrase “laser headlights” is that of laser beams firing out the front of an automobile.'\n"
     ]
    }
   ],
   "source": [
    "# Score sentence by token\n",
    "\n",
    "def score_sentence_by_token(sentence, interesting_token):\n",
    "    doc = nlp(sentence)\n",
    "    interesting_token = [word.lower() for word in interesting_token]\n",
    "    token_count = sum(1 for token in doc if token.text.lower() in interesting_token)\n",
    "    total_tokens = len([token for token in doc if token.is_alpha])\n",
    "    if total_tokens == 0:\n",
    "        return 0\n",
    "    return round(token_count / total_tokens, 2)\n",
    "\n",
    "seventh_sentence = list(doc.sents)[7].text\n",
    "interesting_token = ['laser', 'automobile', 'image']\n",
    "\n",
    "print(f\"\"\"The score for the following sentence is {score_sentence_by_token(seventh_sentence,interesting_token)}\n",
    "'{seventh_sentence}'\"\"\")"
   ]
  },
  {
   "cell_type": "code",
   "execution_count": 8,
   "metadata": {},
   "outputs": [
    {
     "name": "stdout",
     "output_type": "stream",
     "text": [
      "The score for the following sentence is 0.25\n",
      "'Instead, laser headlights consist of one or more solid state laser diodes mounted inside the headlight.'\n"
     ]
    }
   ],
   "source": [
    "# Score sentence by lemma\n",
    "\n",
    "def score_sentence_by_lemma(sentence, interesting_lemma):\n",
    "    doc = nlp(sentence)\n",
    "    interesting_lemma = [word.lower() for word in interesting_lemma]\n",
    "    lemma_count = sum(1 for token in doc if token.text.lower() in interesting_lemma)\n",
    "    total_lemma = len([token for token in doc if token.is_alpha])\n",
    "    if total_lemma == 0:\n",
    "        return 0\n",
    "    return round(lemma_count / total_lemma, 2)\n",
    "\n",
    "tenth_sentence = list(doc.sents)[10].text\n",
    "interesting_lemma = ['laser', 'solid', 'headlight']\n",
    "\n",
    "print(f\"\"\"The score for the following sentence is {score_sentence_by_lemma(tenth_sentence,interesting_lemma)}\n",
    "'{tenth_sentence}'\"\"\")"
   ]
  },
  {
   "cell_type": "markdown",
   "metadata": {},
   "source": [
    "#### 6. Make a list containing the scores (using tokens) of every sentence in the article, and plot a histogram with appropriate titles and axis labels of the scores. From your histogram, what seems to be the most common range of scores (put the answer in a comment after your code)?"
   ]
  },
  {
   "cell_type": "code",
   "execution_count": 9,
   "metadata": {},
   "outputs": [
    {
     "data": {
      "image/png": "[encoded data removed]",
      "text/plain": [
       "<Figure size 640x480 with 1 Axes>"
      ]
     },
     "metadata": {},
     "output_type": "display_data"
    }
   ],
   "source": [
    "interesting_tokens = ['laser', 'beam', 'engineer', 'technology', 'home']\n",
    "\n",
    "doc = nlp(article_cleaned)\n",
    "token_scores = [score_sentence_by_token(sentence.text, interesting_tokens) for sentence in doc.sents]\n",
    "\n",
    "plt.hist(token_scores, bins=30, color='red', edgecolor='black', alpha=0.7)\n",
    "# Titles and labels\n",
    "plt.title('Token Scores')\n",
    "plt.xlabel('Token Score', fontsize=12, color='black')\n",
    "plt.ylabel('Frequency', fontsize=12, color='black')\n",
    "plt.xticks(fontsize=10, rotation=45, color='black')\n",
    "plt.yticks(fontsize=10, color='black')\n",
    "plt.show()\n",
    "\n",
    "# The most common range of scores is < 5%"
   ]
  },
  {
   "cell_type": "markdown",
   "metadata": {},
   "source": [
    "#### 7. Make a list containing the scores (using lemmas) of every sentence in the article, and plot a histogram with appropriate titles and axis labels of the scores.  From your histogram, what seems to be the most common range of scores (put the answer in a comment after your code)?"
   ]
  },
  {
   "cell_type": "code",
   "execution_count": 10,
   "metadata": {},
   "outputs": [
    {
     "data": {
      "image/png": "[encoded data removed]",
      "text/plain": [
       "<Figure size 640x480 with 1 Axes>"
      ]
     },
     "metadata": {},
     "output_type": "display_data"
    }
   ],
   "source": [
    "interesting_lemmas = ['image', 'futuristic', 'led', 'develop', 'blue', 'test']\n",
    "\n",
    "doc = nlp(article_cleaned)\n",
    "lemmas_scores = [score_sentence_by_lemma(sentence.text, interesting_lemmas) for sentence in doc.sents]\n",
    "\n",
    "plt.hist(lemmas_scores, bins=30, color='red', edgecolor='black', alpha=0.7)\n",
    "# Titles and labels\n",
    "plt.title('Lemmas Scores')\n",
    "plt.xlabel('Lemmas Score', fontsize=12, color='black')\n",
    "plt.ylabel('Frequency', fontsize=12, color='black')\n",
    "plt.xticks(fontsize=10, rotation=45, color='black')\n",
    "plt.yticks(fontsize=10, color='black')\n",
    "plt.show()\n",
    "\n",
    "# The most common range of scores is < 5%"
   ]
  },
  {
   "cell_type": "markdown",
   "metadata": {},
   "source": [
    "#### 8. Which tokens and lexems would be ommitted from the lists generated in questions 3 and 4 if we only wanted to consider nouns as interesting words?  How might we change the code to only consider nouns? Put your answer in this Markdown cell (you can edit it by double clicking it)."
   ]
  },
  {
   "cell_type": "markdown",
   "metadata": {},
   "source": [
    "We could use this variable to get only nouns. This would replace the tokens or lemmas variable in question 3 + 4.\n",
    "\n",
    "nouns = [token.text for token in doc if token.pos_ in ['NOUN']]"
   ]
  }
 ],
 "metadata": {
  "kernelspec": {
   "display_name": ".venv",
   "language": "python",
   "name": "python3"
  },
  "language_info": {
   "codemirror_mode": {
    "name": "ipython",
    "version": 3
   },
   "file_extension": ".py",
   "mimetype": "text/x-python",
   "name": "python",
   "nbconvert_exporter": "python",
   "pygments_lexer": "ipython3",
   "version": "3.12.1"
  }
 },
 "nbformat": 4,
 "nbformat_minor": 4
}
